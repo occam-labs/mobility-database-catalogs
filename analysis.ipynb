{
 "cells": [
  {
   "cell_type": "markdown",
   "metadata": {},
   "source": [
    "#### This repo is a fork of [MobilityData/mobility-database-catalogs](https://github.com/MobilityData/mobility-database-catalogs)\n",
    "\n",
    "- See [this link](https://github.com/MobilityData/mobility-database-catalogs#installation) from original repo for instructions on how to install the pip libraries required\n",
    "- See 1:02 of [this video](https://www.youtube.com/watch?v=3_76lds7kF0) for a description of the gbfs schema"
   ]
  },
  {
   "cell_type": "code",
   "execution_count": 31,
   "metadata": {},
   "outputs": [],
   "source": [
    "import json\n",
    "import pandas as pd\n",
    "\n",
    "# Repo local imports\n",
    "from tools import operations as op"
   ]
  },
  {
   "cell_type": "code",
   "execution_count": 40,
   "metadata": {},
   "outputs": [
    {
     "data": {
      "text/plain": [
       "1834"
      ]
     },
     "execution_count": 40,
     "metadata": {},
     "output_type": "execute_result"
    }
   ],
   "source": [
    "dict_sources = op.get_sources()\n",
    "len(dict_sources)"
   ]
  },
  {
   "cell_type": "code",
   "execution_count": 28,
   "metadata": {},
   "outputs": [
    {
     "data": {
      "text/html": [
       "<div>\n",
       "<style scoped>\n",
       "    .dataframe tbody tr th:only-of-type {\n",
       "        vertical-align: middle;\n",
       "    }\n",
       "\n",
       "    .dataframe tbody tr th {\n",
       "        vertical-align: top;\n",
       "    }\n",
       "\n",
       "    .dataframe thead th {\n",
       "        text-align: right;\n",
       "    }\n",
       "</style>\n",
       "<table border=\"1\" class=\"dataframe\">\n",
       "  <thead>\n",
       "    <tr style=\"text-align: right;\">\n",
       "      <th></th>\n",
       "      <th>country_code</th>\n",
       "      <th>nr_sources</th>\n",
       "      <th>nr_sources_gtfs</th>\n",
       "      <th>nr_sources_gbfs</th>\n",
       "    </tr>\n",
       "  </thead>\n",
       "  <tbody>\n",
       "    <tr>\n",
       "      <th>0</th>\n",
       "      <td>US</td>\n",
       "      <td>793</td>\n",
       "      <td>793</td>\n",
       "      <td>0</td>\n",
       "    </tr>\n",
       "    <tr>\n",
       "      <th>1</th>\n",
       "      <td>CA</td>\n",
       "      <td>93</td>\n",
       "      <td>93</td>\n",
       "      <td>0</td>\n",
       "    </tr>\n",
       "    <tr>\n",
       "      <th>2</th>\n",
       "      <td>AR</td>\n",
       "      <td>4</td>\n",
       "      <td>4</td>\n",
       "      <td>0</td>\n",
       "    </tr>\n",
       "    <tr>\n",
       "      <th>3</th>\n",
       "      <td>BR</td>\n",
       "      <td>7</td>\n",
       "      <td>7</td>\n",
       "      <td>0</td>\n",
       "    </tr>\n",
       "    <tr>\n",
       "      <th>4</th>\n",
       "      <td>FR</td>\n",
       "      <td>65</td>\n",
       "      <td>65</td>\n",
       "      <td>0</td>\n",
       "    </tr>\n",
       "  </tbody>\n",
       "</table>\n",
       "</div>"
      ],
      "text/plain": [
       "  country_code  nr_sources  nr_sources_gtfs  nr_sources_gbfs\n",
       "0           US         793              793                0\n",
       "1           CA          93               93                0\n",
       "2           AR           4                4                0\n",
       "3           BR           7                7                0\n",
       "4           FR          65               65                0"
      ]
     },
     "execution_count": 28,
     "metadata": {},
     "output_type": "execute_result"
    }
   ],
   "source": [
    "dict_sources_data_type_count = {}\n",
    "map_sources_country_count = {}\n",
    "dict_sources_country_count = {\n",
    "    \"country_code\": [],\n",
    "    \"nr_sources\": [],\n",
    "    \"nr_sources_gtfs\": [],\n",
    "    \"nr_sources_gbfs\": [],\n",
    "}\n",
    "\n",
    "for val in dict_sources.values():\n",
    "    data_type = val[\"data_type\"]\n",
    "    if data_type in dict_sources_data_type_count:\n",
    "        dict_sources_data_type_count[data_type] += 1\n",
    "    else:\n",
    "        dict_sources_data_type_count[data_type] = 1\n",
    "    if data_type in (\"gtfs\", \"gbfs\"):\n",
    "        country_code = val[\"location\"][\"country_code\"]\n",
    "        if country_code in map_sources_country_count:\n",
    "            map_sources_country_count[country_code][0] += 1\n",
    "            idx = 1 if data_type == \"gtfs\" else 2\n",
    "            map_sources_country_count[country_code][idx] += 1\n",
    "        else:\n",
    "            map_sources_country_count[country_code] = [\n",
    "                1,\n",
    "                1 if data_type == \"gtfs\" else 0,\n",
    "                1 if data_type == \"gbfs\" else 0,\n",
    "            ]\n",
    "\n",
    "for key, val in map_sources_country_count.items():\n",
    "    dict_sources_country_count[\"country_code\"].append(key)\n",
    "    dict_sources_country_count[\"nr_sources\"].append(val[0])\n",
    "    dict_sources_country_count[\"nr_sources_gtfs\"].append(val[1])\n",
    "    dict_sources_country_count[\"nr_sources_gbfs\"].append(val[2])\n",
    "\n",
    "pdf_sources_country_count = pd.DataFrame(dict_sources_country_count)\n",
    "pdf_sources_country_count.head()"
   ]
  },
  {
   "cell_type": "code",
   "execution_count": 36,
   "metadata": {},
   "outputs": [
    {
     "data": {
      "text/plain": [
       "True"
      ]
     },
     "execution_count": 36,
     "metadata": {},
     "output_type": "execute_result"
    }
   ],
   "source": [
    "\"NL\" in pdf_sources_country_count[\"country_code\"].values"
   ]
  },
  {
   "cell_type": "markdown",
   "metadata": {},
   "source": [
    "### There is no gbfs dataset !?"
   ]
  },
  {
   "cell_type": "code",
   "execution_count": 29,
   "metadata": {},
   "outputs": [
    {
     "data": {
      "text/plain": [
       "{'gtfs': 1366, 'gtfs-rt': 468}"
      ]
     },
     "execution_count": 29,
     "metadata": {},
     "output_type": "execute_result"
    }
   ],
   "source": [
    "dict_sources_data_type_count"
   ]
  },
  {
   "cell_type": "markdown",
   "metadata": {},
   "source": [
    "### Click on link below to download an example gtfs dataset"
   ]
  },
  {
   "cell_type": "code",
   "execution_count": 47,
   "metadata": {},
   "outputs": [
    {
     "data": {
      "text/plain": [
       "{'mdb_source_id': 1077,\n",
       " 'data_type': 'gtfs',\n",
       " 'provider': 'allGo (Keolis), Arriva, Blue Amigo, Bravo (Arriva), Bravo (Hermes), Breng, Connexxion, De Lijn, EBS, Westerschelde Ferry, GVB, HTM, Blauwnet, Breng, DB, Eurobahn, NMBS, Arriva, NS, NS International, R-net, Valleilijn, VIAS, Keolis, NIAG, Overal (Connexxion), OV Regio IJsselmond, Qbuzz, RET, Syntus Utrecht, Texelhopper, Transdev, Twents (Keolis), U-OV',\n",
       " 'name': 'Aggregate',\n",
       " 'location': {'country_code': 'NL',\n",
       "  'bounding_box': {'minimum_latitude': 43.3033199718,\n",
       "   'maximum_latitude': 55.67276,\n",
       "   'minimum_longitude': -0.1264966,\n",
       "   'maximum_longitude': 21.05204,\n",
       "   'extracted_on': '2022-03-17T20:39:51+00:00'}},\n",
       " 'urls': {'direct_download': 'http://gtfs.ovapi.nl/gtfs-nl.zip',\n",
       "  'latest': 'https://storage.googleapis.com/storage/v1/b/mdb-latest/o/nl-unknown-allgo-keolis-gtfs-1077.zip?alt=media'}}"
      ]
     },
     "execution_count": 47,
     "metadata": {},
     "output_type": "execute_result"
    }
   ],
   "source": [
    "dict_sources_nl = op.get_sources_by_country_code(\"NL\")\n",
    "dict_sources_nl[1077]"
   ]
  },
  {
   "cell_type": "markdown",
   "metadata": {},
   "source": [
    "### Example on how to save a json"
   ]
  },
  {
   "cell_type": "code",
   "execution_count": 11,
   "metadata": {},
   "outputs": [],
   "source": [
    "# Data to be written    \n",
    "with open(\"sources.json\", \"w\") as outfile:\n",
    "    json.dump(dict_sources, outfile)"
   ]
  },
  {
   "cell_type": "code",
   "execution_count": null,
   "metadata": {},
   "outputs": [],
   "source": []
  }
 ],
 "metadata": {
  "kernelspec": {
   "display_name": "Python 3",
   "language": "python",
   "name": "python3"
  },
  "language_info": {
   "codemirror_mode": {
    "name": "ipython",
    "version": 3
   },
   "file_extension": ".py",
   "mimetype": "text/x-python",
   "name": "python",
   "nbconvert_exporter": "python",
   "pygments_lexer": "ipython3",
   "version": "3.8.3"
  }
 },
 "nbformat": 4,
 "nbformat_minor": 4
}
